{
 "cells": [
  {
   "cell_type": "code",
   "execution_count": 1,
   "metadata": {},
   "outputs": [],
   "source": [
    "# dependencies\n",
    "import urllib3\n",
    "from bs4 import BeautifulSoup\n",
    "import pandas as pd\n",
    "import numpy as np\n",
    "\n",
    "from geopy.geocoders import IGNFrance"
   ]
  },
  {
   "cell_type": "code",
   "execution_count": 2,
   "metadata": {},
   "outputs": [],
   "source": [
    "# parse web page with list of audika shops\n",
    "page = urllib3.PoolManager().request('GET', 'https://www.audika.fr/centres/annuaire-audioprothesistes')\n",
    "soup = BeautifulSoup(page.data, features=\"html.parser\")"
   ]
  },
  {
   "cell_type": "code",
   "execution_count": 3,
   "metadata": {},
   "outputs": [],
   "source": [
    "# get name and address\n",
    "shop_name = [x.get_text().strip('\\n') for x in soup.find_all('div', class_ = 'm-clinic-tile-card')]\n",
    "address = [x.get_text().strip().replace('< /br>', '') for x in soup.find_all('div', class_ = 'm-clinic-tile-card__address')]\n",
    "df = pd.DataFrame({'shop_name': shop_name, 'address': address})"
   ]
  },
  {
   "cell_type": "code",
   "execution_count": 4,
   "metadata": {},
   "outputs": [
    {
     "name": "stdout",
     "output_type": "stream",
     "text": [
      "50/588\n",
      "100/588\n",
      "150/588\n",
      "200/588\n",
      "250/588\n",
      "300/588\n",
      "350/588\n",
      "400/588\n",
      "450/588\n",
      "500/588\n",
      "550/588\n"
     ]
    }
   ],
   "source": [
    "# geolocate shops\n",
    "geolocator = IGNFrance()\n",
    "\n",
    "df['latitude'] = np.nan\n",
    "df['longitude'] = np.nan\n",
    "df['city'] = np.nan\n",
    "df['postcode'] = np.nan\n",
    "\n",
    "for i in df.index:\n",
    "\n",
    "    if ((i>0) and (i%50==0)):\n",
    "        print(f'{i}/{len(df)}')\n",
    "\n",
    "    try:\n",
    "        #tries fetch address from geopy\n",
    "        location = geolocator.geocode(df['address'][i], timeout=None)\n",
    "        \n",
    "        #append lat/long to column using dataframe location\n",
    "        df.loc[i,'latitude'] = float(location.latitude)\n",
    "        df.loc[i,'longitude'] = float(location.longitude)\n",
    "        df.loc[i,'city'] = location.raw['commune']\n",
    "        df.loc[i,'postcode'] = location.raw['postal_code']\n",
    "        \n",
    "    except:\n",
    "        continue"
   ]
  },
  {
   "cell_type": "code",
   "execution_count": 5,
   "metadata": {},
   "outputs": [
    {
     "data": {
      "text/html": [
       "<div>\n",
       "<style scoped>\n",
       "    .dataframe tbody tr th:only-of-type {\n",
       "        vertical-align: middle;\n",
       "    }\n",
       "\n",
       "    .dataframe tbody tr th {\n",
       "        vertical-align: top;\n",
       "    }\n",
       "\n",
       "    .dataframe thead th {\n",
       "        text-align: right;\n",
       "    }\n",
       "</style>\n",
       "<table border=\"1\" class=\"dataframe\">\n",
       "  <thead>\n",
       "    <tr style=\"text-align: right;\">\n",
       "      <th></th>\n",
       "      <th>shop_name</th>\n",
       "      <th>address</th>\n",
       "      <th>latitude</th>\n",
       "      <th>longitude</th>\n",
       "      <th>city</th>\n",
       "      <th>postcode</th>\n",
       "    </tr>\n",
       "  </thead>\n",
       "  <tbody>\n",
       "    <tr>\n",
       "      <th>0</th>\n",
       "      <td>Audioprothésiste Audika Bourg-en-Bresse</td>\n",
       "      <td>16 Boulevard de Brou - 01000 Bourg-en-Bresse (...</td>\n",
       "      <td>46.204853</td>\n",
       "      <td>5.229367</td>\n",
       "      <td>Bourg-en-Bresse</td>\n",
       "      <td>01000</td>\n",
       "    </tr>\n",
       "    <tr>\n",
       "      <th>1</th>\n",
       "      <td>Audioprothésiste Audika Chatillon-sur-Chalaronne</td>\n",
       "      <td>100 Rue Pasteur - 01400 Châtillon-sur-Chalaron...</td>\n",
       "      <td>46.119722</td>\n",
       "      <td>4.955721</td>\n",
       "      <td>Châtillon-sur-Chalaronne</td>\n",
       "      <td>01400</td>\n",
       "    </tr>\n",
       "    <tr>\n",
       "      <th>2</th>\n",
       "      <td>Audioprothésiste Audika Château-Thierry</td>\n",
       "      <td>3 Place de l'Hôtel de Ville - 02400 Château-Th...</td>\n",
       "      <td>49.045511</td>\n",
       "      <td>3.402932</td>\n",
       "      <td>Château-Thierry</td>\n",
       "      <td>02400</td>\n",
       "    </tr>\n",
       "    <tr>\n",
       "      <th>3</th>\n",
       "      <td>Audioprothésiste Audika Saint-Quentin</td>\n",
       "      <td>13 Rue Emile Zola - 02100 Saint-Quentin (Aisne)</td>\n",
       "      <td>49.846515</td>\n",
       "      <td>3.286195</td>\n",
       "      <td>Saint-Quentin</td>\n",
       "      <td>02100</td>\n",
       "    </tr>\n",
       "    <tr>\n",
       "      <th>4</th>\n",
       "      <td>Audioprothésiste Audika Soissons</td>\n",
       "      <td>16 Rue du Collège - 02200 Soissons (Aisne)</td>\n",
       "      <td>49.382270</td>\n",
       "      <td>3.325836</td>\n",
       "      <td>Soissons</td>\n",
       "      <td>02200</td>\n",
       "    </tr>\n",
       "  </tbody>\n",
       "</table>\n",
       "</div>"
      ],
      "text/plain": [
       "                                          shop_name  \\\n",
       "0           Audioprothésiste Audika Bourg-en-Bresse   \n",
       "1  Audioprothésiste Audika Chatillon-sur-Chalaronne   \n",
       "2           Audioprothésiste Audika Château-Thierry   \n",
       "3             Audioprothésiste Audika Saint-Quentin   \n",
       "4                  Audioprothésiste Audika Soissons   \n",
       "\n",
       "                                             address   latitude  longitude  \\\n",
       "0  16 Boulevard de Brou - 01000 Bourg-en-Bresse (...  46.204853   5.229367   \n",
       "1  100 Rue Pasteur - 01400 Châtillon-sur-Chalaron...  46.119722   4.955721   \n",
       "2  3 Place de l'Hôtel de Ville - 02400 Château-Th...  49.045511   3.402932   \n",
       "3    13 Rue Emile Zola - 02100 Saint-Quentin (Aisne)  49.846515   3.286195   \n",
       "4         16 Rue du Collège - 02200 Soissons (Aisne)  49.382270   3.325836   \n",
       "\n",
       "                       city postcode  \n",
       "0           Bourg-en-Bresse    01000  \n",
       "1  Châtillon-sur-Chalaronne    01400  \n",
       "2           Château-Thierry    02400  \n",
       "3             Saint-Quentin    02100  \n",
       "4                  Soissons    02200  "
      ]
     },
     "execution_count": 5,
     "metadata": {},
     "output_type": "execute_result"
    }
   ],
   "source": [
    "# check\n",
    "df.head()"
   ]
  },
  {
   "cell_type": "code",
   "execution_count": 6,
   "metadata": {},
   "outputs": [
    {
     "name": "stdout",
     "output_type": "stream",
     "text": [
      "<class 'pandas.core.frame.DataFrame'>\n",
      "RangeIndex: 588 entries, 0 to 587\n",
      "Data columns (total 6 columns):\n",
      " #   Column     Non-Null Count  Dtype  \n",
      "---  ------     --------------  -----  \n",
      " 0   shop_name  588 non-null    object \n",
      " 1   address    588 non-null    object \n",
      " 2   latitude   588 non-null    float64\n",
      " 3   longitude  588 non-null    float64\n",
      " 4   city       588 non-null    object \n",
      " 5   postcode   588 non-null    object \n",
      "dtypes: float64(2), object(4)\n",
      "memory usage: 27.7+ KB\n"
     ]
    }
   ],
   "source": [
    "df.info()"
   ]
  },
  {
   "cell_type": "code",
   "execution_count": 7,
   "metadata": {},
   "outputs": [],
   "source": [
    "df.to_csv('../output/audika_shops_geocoded.csv', index=False)"
   ]
  }
 ],
 "metadata": {
  "kernelspec": {
   "display_name": "Python 3",
   "language": "python",
   "name": "python3"
  },
  "language_info": {
   "codemirror_mode": {
    "name": "ipython",
    "version": 3
   },
   "file_extension": ".py",
   "mimetype": "text/x-python",
   "name": "python",
   "nbconvert_exporter": "python",
   "pygments_lexer": "ipython3",
   "version": "3.10.10"
  },
  "orig_nbformat": 4,
  "vscode": {
   "interpreter": {
    "hash": "f4daf1fbf1fe3b4d44bee8d93104667141ff66d7c35e0c5d140a75c01cabd4f4"
   }
  }
 },
 "nbformat": 4,
 "nbformat_minor": 2
}
