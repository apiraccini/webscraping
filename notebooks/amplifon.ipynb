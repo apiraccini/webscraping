{
 "cells": [
  {
   "cell_type": "code",
   "execution_count": 1,
   "metadata": {},
   "outputs": [],
   "source": [
    "import urllib3\n",
    "from bs4 import BeautifulSoup\n",
    "import pandas as pd\n",
    "import numpy as np\n",
    "from geopy.geocoders import IGNFrance"
   ]
  },
  {
   "cell_type": "code",
   "execution_count": 2,
   "metadata": {},
   "outputs": [],
   "source": [
    "# parse web page with links to lists of amplifon shops\n",
    "page = urllib3.PoolManager().request('GET', 'https://www.amplifon.com/fr/nous-trouver')\n",
    "soup = BeautifulSoup(page.data, features=\"html.parser\")"
   ]
  },
  {
   "cell_type": "code",
   "execution_count": 1,
   "metadata": {},
   "outputs": [],
   "source": [
    "#print(soup.prettify())"
   ]
  },
  {
   "cell_type": "code",
   "execution_count": 4,
   "metadata": {},
   "outputs": [
    {
     "data": {
      "text/plain": [
       "['https://www.amplifon.com/fr/nous-trouver/audioprothesiste-auvergne-rhone-alpes',\n",
       " 'https://www.amplifon.com/fr/nous-trouver/audioprothesiste-bourgogne-franche-comte',\n",
       " 'https://www.amplifon.com/fr/nous-trouver/audioprothesiste-bretagne',\n",
       " 'https://www.amplifon.com/fr/nous-trouver/audioprothesiste-centre-val-de-loire',\n",
       " 'https://www.amplifon.com/fr/nous-trouver/audioprothesiste-grand-est',\n",
       " 'https://www.amplifon.com/fr/nous-trouver/audioprothesiste-hauts-de-france',\n",
       " 'https://www.amplifon.com/fr/nous-trouver/audioprothesiste-ile-de-france',\n",
       " 'https://www.amplifon.com/fr/nous-trouver/audioprothesiste-normandie',\n",
       " 'https://www.amplifon.com/fr/nous-trouver/audioprothesiste-nouvelle-aquitaine',\n",
       " 'https://www.amplifon.com/fr/nous-trouver/audioprothesiste-occitanie',\n",
       " 'https://www.amplifon.com/fr/nous-trouver/audioprothesiste-pays-de-la-loire',\n",
       " 'https://www.amplifon.com/fr/nous-trouver/audioprothesiste-provence-alpes-cote-d-azur-corse']"
      ]
     },
     "execution_count": 4,
     "metadata": {},
     "output_type": "execute_result"
    }
   ],
   "source": [
    "raw_links = soup.find_all('tr')\n",
    "links = [elem.find('a')['href'] for elem in raw_links]\n",
    "links"
   ]
  },
  {
   "cell_type": "code",
   "execution_count": 5,
   "metadata": {},
   "outputs": [],
   "source": [
    "# scrape each link\n",
    "df_list = []\n",
    "\n",
    "for link in links:\n",
    "    \n",
    "    page = urllib3.PoolManager().request('GET', link)\n",
    "    soup = BeautifulSoup(page.data, features=\"html.parser\")\n",
    "\n",
    "    shop_name = [x.get_text().strip() for x in soup.find_all('span', class_ = 'item-h4 value-bold pb-10-xs')]\n",
    "    address = [x.get_text().strip() for x in soup.find_all('p', class_ = 'body-copy grey-text pb-10-xs')]\n",
    "    \n",
    "    df = pd.DataFrame({'shop_name': shop_name, 'address': address})\n",
    "    df_list.append(df)\n",
    "\n",
    "df = pd.concat(df_list, axis=0).reset_index(drop=True)"
   ]
  },
  {
   "cell_type": "code",
   "execution_count": 6,
   "metadata": {},
   "outputs": [
    {
     "name": "stdout",
     "output_type": "stream",
     "text": [
      "50/710\n",
      "100/710\n",
      "150/710\n",
      "200/710\n",
      "250/710\n",
      "300/710\n",
      "350/710\n",
      "400/710\n",
      "450/710\n",
      "500/710\n",
      "550/710\n",
      "600/710\n",
      "650/710\n",
      "700/710\n"
     ]
    }
   ],
   "source": [
    "# geolocate shops\n",
    "geolocator = IGNFrance()\n",
    "\n",
    "df['latitude'] = np.nan\n",
    "df['longitude'] = np.nan\n",
    "df['city'] = np.nan\n",
    "df['postcode'] = np.nan\n",
    "\n",
    "for i in df.index:\n",
    "\n",
    "    if ((i>0) and (i%50==0)):\n",
    "        print(f'{i}/{len(df)}')\n",
    "\n",
    "    try:\n",
    "        #tries fetch address from geopy\n",
    "        location = geolocator.geocode(df['address'][i], timeout=None)\n",
    "        \n",
    "        #append lat/long to column using dataframe location\n",
    "        df.loc[i,'latitude'] = float(location.latitude)\n",
    "        df.loc[i,'longitude'] = float(location.longitude)\n",
    "        df.loc[i,'city'] = location.raw['commune']\n",
    "        df.loc[i,'postcode'] = location.raw['postal_code']\n",
    "        \n",
    "    except:\n",
    "        continue"
   ]
  },
  {
   "cell_type": "code",
   "execution_count": 7,
   "metadata": {},
   "outputs": [
    {
     "data": {
      "text/html": [
       "<div>\n",
       "<style scoped>\n",
       "    .dataframe tbody tr th:only-of-type {\n",
       "        vertical-align: middle;\n",
       "    }\n",
       "\n",
       "    .dataframe tbody tr th {\n",
       "        vertical-align: top;\n",
       "    }\n",
       "\n",
       "    .dataframe thead th {\n",
       "        text-align: right;\n",
       "    }\n",
       "</style>\n",
       "<table border=\"1\" class=\"dataframe\">\n",
       "  <thead>\n",
       "    <tr style=\"text-align: right;\">\n",
       "      <th></th>\n",
       "      <th>shop_name</th>\n",
       "      <th>address</th>\n",
       "      <th>latitude</th>\n",
       "      <th>longitude</th>\n",
       "      <th>city</th>\n",
       "      <th>postcode</th>\n",
       "    </tr>\n",
       "  </thead>\n",
       "  <tbody>\n",
       "    <tr>\n",
       "      <th>0</th>\n",
       "      <td>Amplifon Audioprothésiste Aix les Bains</td>\n",
       "      <td>11 avenue De Verdun 73100 Aix les Bains</td>\n",
       "      <td>45.690718</td>\n",
       "      <td>5.910551</td>\n",
       "      <td>Aix-les-Bains</td>\n",
       "      <td>73100</td>\n",
       "    </tr>\n",
       "    <tr>\n",
       "      <th>1</th>\n",
       "      <td>Amplifon Audioprothésiste Albertville</td>\n",
       "      <td>57 rue de la République 73200 Albertville</td>\n",
       "      <td>45.676216</td>\n",
       "      <td>6.390093</td>\n",
       "      <td>Albertville</td>\n",
       "      <td>73200</td>\n",
       "    </tr>\n",
       "    <tr>\n",
       "      <th>2</th>\n",
       "      <td>Amplifon Audioprothésiste Ambérieu</td>\n",
       "      <td>18 rue Alexandre Bérard 01500 Ambérieu en Bugey</td>\n",
       "      <td>45.958924</td>\n",
       "      <td>5.358467</td>\n",
       "      <td>Ambérieu-en-Bugey</td>\n",
       "      <td>01500</td>\n",
       "    </tr>\n",
       "    <tr>\n",
       "      <th>3</th>\n",
       "      <td>Amplifon Audioprothésiste Ambert</td>\n",
       "      <td>2 rue de la République 63600 Ambert</td>\n",
       "      <td>45.549808</td>\n",
       "      <td>3.740725</td>\n",
       "      <td>Ambert</td>\n",
       "      <td>63600</td>\n",
       "    </tr>\n",
       "    <tr>\n",
       "      <th>4</th>\n",
       "      <td>Amplifon Audioprothésiste Amilly</td>\n",
       "      <td>802 C Avenue d’Antibes 45200 Amilly</td>\n",
       "      <td>47.980067</td>\n",
       "      <td>2.732994</td>\n",
       "      <td>Amilly</td>\n",
       "      <td>45200</td>\n",
       "    </tr>\n",
       "  </tbody>\n",
       "</table>\n",
       "</div>"
      ],
      "text/plain": [
       "                                 shop_name  \\\n",
       "0  Amplifon Audioprothésiste Aix les Bains   \n",
       "1    Amplifon Audioprothésiste Albertville   \n",
       "2       Amplifon Audioprothésiste Ambérieu   \n",
       "3         Amplifon Audioprothésiste Ambert   \n",
       "4         Amplifon Audioprothésiste Amilly   \n",
       "\n",
       "                                           address   latitude  longitude  \\\n",
       "0          11 avenue De Verdun 73100 Aix les Bains  45.690718   5.910551   \n",
       "1        57 rue de la République 73200 Albertville  45.676216   6.390093   \n",
       "2  18 rue Alexandre Bérard 01500 Ambérieu en Bugey  45.958924   5.358467   \n",
       "3              2 rue de la République 63600 Ambert  45.549808   3.740725   \n",
       "4              802 C Avenue d’Antibes 45200 Amilly  47.980067   2.732994   \n",
       "\n",
       "                city postcode  \n",
       "0      Aix-les-Bains    73100  \n",
       "1        Albertville    73200  \n",
       "2  Ambérieu-en-Bugey    01500  \n",
       "3             Ambert    63600  \n",
       "4             Amilly    45200  "
      ]
     },
     "execution_count": 7,
     "metadata": {},
     "output_type": "execute_result"
    }
   ],
   "source": [
    "# check\n",
    "df.head()"
   ]
  },
  {
   "cell_type": "code",
   "execution_count": 8,
   "metadata": {},
   "outputs": [
    {
     "name": "stdout",
     "output_type": "stream",
     "text": [
      "<class 'pandas.core.frame.DataFrame'>\n",
      "RangeIndex: 710 entries, 0 to 709\n",
      "Data columns (total 6 columns):\n",
      " #   Column     Non-Null Count  Dtype  \n",
      "---  ------     --------------  -----  \n",
      " 0   shop_name  710 non-null    object \n",
      " 1   address    710 non-null    object \n",
      " 2   latitude   710 non-null    float64\n",
      " 3   longitude  710 non-null    float64\n",
      " 4   city       710 non-null    object \n",
      " 5   postcode   710 non-null    object \n",
      "dtypes: float64(2), object(4)\n",
      "memory usage: 33.4+ KB\n"
     ]
    }
   ],
   "source": [
    "df.info()"
   ]
  },
  {
   "cell_type": "code",
   "execution_count": 9,
   "metadata": {},
   "outputs": [],
   "source": [
    "df.to_csv('../output/amplifon_shops_geocoded.csv', index=False)"
   ]
  }
 ],
 "metadata": {
  "kernelspec": {
   "display_name": "Python 3",
   "language": "python",
   "name": "python3"
  },
  "language_info": {
   "codemirror_mode": {
    "name": "ipython",
    "version": 3
   },
   "file_extension": ".py",
   "mimetype": "text/x-python",
   "name": "python",
   "nbconvert_exporter": "python",
   "pygments_lexer": "ipython3",
   "version": "3.10.10"
  },
  "orig_nbformat": 4,
  "vscode": {
   "interpreter": {
    "hash": "f4daf1fbf1fe3b4d44bee8d93104667141ff66d7c35e0c5d140a75c01cabd4f4"
   }
  }
 },
 "nbformat": 4,
 "nbformat_minor": 2
}
